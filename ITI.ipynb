{
  "nbformat": 4,
  "nbformat_minor": 0,
  "metadata": {
    "colab": {
      "name": "ITI",
      "provenance": [],
      "authorship_tag": "ABX9TyMjJK2R0xhBAGZ8PMEk8Ry7",
      "include_colab_link": true
    },
    "kernelspec": {
      "name": "python3",
      "display_name": "Python 3"
    }
  },
  "cells": [
    {
      "cell_type": "markdown",
      "metadata": {
        "id": "view-in-github",
        "colab_type": "text"
      },
      "source": [
        "<a href=\"https://colab.research.google.com/github/Shruti-Marathe/Complete-Python-3-Bootcamp/blob/master/ITI.ipynb\" target=\"_parent\"><img src=\"https://colab.research.google.com/assets/colab-badge.svg\" alt=\"Open In Colab\"/></a>"
      ]
    },
    {
      "cell_type": "code",
      "metadata": {
        "id": "IX7CM9h7WM-D",
        "colab_type": "code",
        "colab": {
          "base_uri": "https://localhost:8080/",
          "height": 34
        },
        "outputId": "98885d75-c5ff-49c6-c2b8-41b5e29cbae5"
      },
      "source": [
        "!pip install igor #Installing igor"
      ],
      "execution_count": 10,
      "outputs": [
        {
          "output_type": "stream",
          "text": [
            "Requirement already satisfied: igor in /usr/local/lib/python3.6/dist-packages (0.3)\n"
          ],
          "name": "stdout"
        }
      ]
    },
    {
      "cell_type": "code",
      "metadata": {
        "id": "MNAC1_D1WRMb",
        "colab_type": "code",
        "colab": {}
      },
      "source": [
        "#Importing files\n",
        "import numpy as np\n",
        "import matplotlib.pyplot as plt\n",
        "import pandas as pd\n"
      ],
      "execution_count": 11,
      "outputs": []
    },
    {
      "cell_type": "code",
      "metadata": {
        "id": "P_ElNnMgWjCM",
        "colab_type": "code",
        "colab": {
          "base_uri": "https://localhost:8080/",
          "height": 34
        },
        "outputId": "dd02cc2e-1e12-4213-e540-5eae4afd4501"
      },
      "source": [
        "dat = open('TrialTime.ibw', 'r+')\n",
        "print(dat)"
      ],
      "execution_count": 17,
      "outputs": [
        {
          "output_type": "stream",
          "text": [
            "<_io.TextIOWrapper name='TrialTime.ibw' mode='r+' encoding='UTF-8'>\n"
          ],
          "name": "stdout"
        }
      ]
    }
  ]
}